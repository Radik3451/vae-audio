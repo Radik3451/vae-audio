{
  "nbformat": 4,
  "nbformat_minor": 0,
  "metadata": {
    "colab": {
      "provenance": []
    },
    "kernelspec": {
      "name": "python3",
      "display_name": "Python 3"
    },
    "language_info": {
      "name": "python"
    }
  },
  "cells": [
    {
      "cell_type": "code",
      "execution_count": 6,
      "metadata": {
        "id": "OwooQb7zQ1hM"
      },
      "outputs": [],
      "source": [
        "import torch\n",
        "import torch.nn as nn\n",
        "import torch.optim as optim\n",
        "from torch.autograd import Variable\n",
        "from torchvision import datasets, transforms\n",
        "from torch.utils.data import DataLoader\n",
        "\n",
        "# Параметры\n",
        "batch_size = 128\n",
        "learning_rate = 1e-3\n",
        "num_epochs = 10\n",
        "latent_dim = 20\n"
      ]
    },
    {
      "cell_type": "code",
      "source": [
        "# Загрузка данных\n",
        "transform = transforms.Compose([transforms.ToTensor()])\n",
        "mnist = datasets.MNIST(root='./data', train=True, transform=transform, download=True)\n",
        "dataloader = DataLoader(mnist, batch_size=batch_size, shuffle=True)\n"
      ],
      "metadata": {
        "colab": {
          "base_uri": "https://localhost:8080/"
        },
        "id": "gG9pzYJ4Q51u",
        "outputId": "f34f9831-8287-4cdb-b081-12106b41648a"
      },
      "execution_count": 7,
      "outputs": [
        {
          "output_type": "stream",
          "name": "stdout",
          "text": [
            "Downloading http://yann.lecun.com/exdb/mnist/train-images-idx3-ubyte.gz\n",
            "Failed to download (trying next):\n",
            "HTTP Error 403: Forbidden\n",
            "\n",
            "Downloading https://ossci-datasets.s3.amazonaws.com/mnist/train-images-idx3-ubyte.gz\n",
            "Downloading https://ossci-datasets.s3.amazonaws.com/mnist/train-images-idx3-ubyte.gz to ./data/MNIST/raw/train-images-idx3-ubyte.gz\n"
          ]
        },
        {
          "output_type": "stream",
          "name": "stderr",
          "text": [
            "100%|██████████| 9912422/9912422 [00:00<00:00, 21301203.99it/s]\n"
          ]
        },
        {
          "output_type": "stream",
          "name": "stdout",
          "text": [
            "Extracting ./data/MNIST/raw/train-images-idx3-ubyte.gz to ./data/MNIST/raw\n",
            "\n",
            "Downloading http://yann.lecun.com/exdb/mnist/train-labels-idx1-ubyte.gz\n",
            "Failed to download (trying next):\n",
            "HTTP Error 403: Forbidden\n",
            "\n",
            "Downloading https://ossci-datasets.s3.amazonaws.com/mnist/train-labels-idx1-ubyte.gz\n",
            "Downloading https://ossci-datasets.s3.amazonaws.com/mnist/train-labels-idx1-ubyte.gz to ./data/MNIST/raw/train-labels-idx1-ubyte.gz\n"
          ]
        },
        {
          "output_type": "stream",
          "name": "stderr",
          "text": [
            "100%|██████████| 28881/28881 [00:00<00:00, 649033.94it/s]\n"
          ]
        },
        {
          "output_type": "stream",
          "name": "stdout",
          "text": [
            "Extracting ./data/MNIST/raw/train-labels-idx1-ubyte.gz to ./data/MNIST/raw\n",
            "\n",
            "Downloading http://yann.lecun.com/exdb/mnist/t10k-images-idx3-ubyte.gz\n",
            "Failed to download (trying next):\n",
            "HTTP Error 403: Forbidden\n",
            "\n",
            "Downloading https://ossci-datasets.s3.amazonaws.com/mnist/t10k-images-idx3-ubyte.gz\n",
            "Downloading https://ossci-datasets.s3.amazonaws.com/mnist/t10k-images-idx3-ubyte.gz to ./data/MNIST/raw/t10k-images-idx3-ubyte.gz\n"
          ]
        },
        {
          "output_type": "stream",
          "name": "stderr",
          "text": [
            "100%|██████████| 1648877/1648877 [00:00<00:00, 5538340.07it/s]\n"
          ]
        },
        {
          "output_type": "stream",
          "name": "stdout",
          "text": [
            "Extracting ./data/MNIST/raw/t10k-images-idx3-ubyte.gz to ./data/MNIST/raw\n",
            "\n",
            "Downloading http://yann.lecun.com/exdb/mnist/t10k-labels-idx1-ubyte.gz\n",
            "Failed to download (trying next):\n",
            "HTTP Error 403: Forbidden\n",
            "\n",
            "Downloading https://ossci-datasets.s3.amazonaws.com/mnist/t10k-labels-idx1-ubyte.gz\n",
            "Downloading https://ossci-datasets.s3.amazonaws.com/mnist/t10k-labels-idx1-ubyte.gz to ./data/MNIST/raw/t10k-labels-idx1-ubyte.gz\n"
          ]
        },
        {
          "output_type": "stream",
          "name": "stderr",
          "text": [
            "100%|██████████| 4542/4542 [00:00<00:00, 8197301.54it/s]"
          ]
        },
        {
          "output_type": "stream",
          "name": "stdout",
          "text": [
            "Extracting ./data/MNIST/raw/t10k-labels-idx1-ubyte.gz to ./data/MNIST/raw\n",
            "\n"
          ]
        },
        {
          "output_type": "stream",
          "name": "stderr",
          "text": [
            "\n"
          ]
        }
      ]
    },
    {
      "cell_type": "code",
      "source": [
        "# Определение VAE\n",
        "class VAE(nn.Module):\n",
        "    def __init__(self):\n",
        "        super(VAE, self).__init__()\n",
        "        self.fc1 = nn.Linear(28 * 28, 400)\n",
        "        self.fc21 = nn.Linear(400, latent_dim)  # для среднего\n",
        "        self.fc22 = nn.Linear(400, latent_dim)  # для логарифма дисперсии\n",
        "        self.fc3 = nn.Linear(latent_dim, 400)\n",
        "        self.fc4 = nn.Linear(400, 28 * 28)\n",
        "\n",
        "    def encode(self, x):\n",
        "        h1 = torch.relu(self.fc1(x))\n",
        "        return self.fc21(h1), self.fc22(h1)\n",
        "\n",
        "    def reparameterize(self, mu, logvar):\n",
        "        std = torch.exp(0.5 * logvar)\n",
        "        eps = torch.randn_like(std)\n",
        "        return mu + eps * std\n",
        "\n",
        "    def decode(self, z):\n",
        "        h3 = torch.relu(self.fc3(z))\n",
        "        return torch.sigmoid(self.fc4(h3))\n",
        "\n",
        "    def forward(self, x):\n",
        "        mu, logvar = self.encode(x.view(-1, 28 * 28))\n",
        "        z = self.reparameterize(mu, logvar)\n",
        "        return self.decode(z), mu, logvar"
      ],
      "metadata": {
        "id": "cZli27TOSAd4"
      },
      "execution_count": 8,
      "outputs": []
    },
    {
      "cell_type": "code",
      "source": [
        "# Функция потерь\n",
        "def loss_function(recon_x, x, mu, logvar):\n",
        "    BCE = nn.functional.binary_cross_entropy(recon_x, x.view(-1, 28 * 28), reduction='sum')\n",
        "    KLD = -0.5 * torch.sum(1 + logvar - mu.pow(2) - logvar.exp())\n",
        "    return BCE + KLD\n",
        "\n",
        "# Функция вычисления точности\n",
        "def calculate_accuracy(recon_x, x):\n",
        "    recon_x = recon_x.view(-1, 28 * 28)\n",
        "    x = x.view(-1, 28 * 28)\n",
        "    correct = torch.sum((recon_x > 0.5) == (x > 0.5)).item()\n",
        "    return correct / (x.size(0) * 28 * 28)"
      ],
      "metadata": {
        "id": "QeooHHshSCtg"
      },
      "execution_count": 13,
      "outputs": []
    },
    {
      "cell_type": "code",
      "source": [
        "# Обучение модели\n",
        "model = VAE()\n",
        "optimizer = optim.Adam(model.parameters(), lr=learning_rate)"
      ],
      "metadata": {
        "id": "hwXbE7sKSEhL"
      },
      "execution_count": 14,
      "outputs": []
    },
    {
      "cell_type": "code",
      "source": [
        "model.train()\n",
        "for epoch in range(num_epochs):\n",
        "    train_loss = 0\n",
        "    train_accuracy = 0\n",
        "    for batch_idx, (data, _) in enumerate(dataloader):\n",
        "        data = Variable(data)\n",
        "        optimizer.zero_grad()\n",
        "        recon_batch, mu, logvar = model(data)\n",
        "        loss = loss_function(recon_batch, data, mu, logvar)\n",
        "        loss.backward()\n",
        "        train_loss += loss.item()\n",
        "        optimizer.step()\n",
        "\n",
        "        accuracy = calculate_accuracy(recon_batch, data)\n",
        "        train_accuracy += accuracy\n",
        "\n",
        "        if batch_idx % 100 == 0:\n",
        "            print(f'Эпоха: {epoch} [{batch_idx * len(data)}/{len(dataloader.dataset)} ({100. * batch_idx / len(dataloader):.0f}%)]\\tПотеря: {loss.item() / len(data):.6f}\\tТочность: {accuracy:.4f}')\n",
        "\n",
        "    avg_loss = train_loss / len(dataloader.dataset)\n",
        "    avg_accuracy = train_accuracy / len(dataloader)\n",
        "    print(f'====> Эпоха: {epoch} Средняя потеря: {avg_loss:.4f}\\tСредняя точность: {avg_accuracy:.4f}')"
      ],
      "metadata": {
        "colab": {
          "base_uri": "https://localhost:8080/"
        },
        "id": "0ixtCwzqSIM_",
        "outputId": "6408f7a5-c311-4ca2-f9ce-63298f9b1651"
      },
      "execution_count": 15,
      "outputs": [
        {
          "output_type": "stream",
          "name": "stdout",
          "text": [
            "Эпоха: 0 [0/60000 (0%)]\tПотеря: 551.366882\tТочность: 0.4898\n",
            "Эпоха: 0 [12800/60000 (21%)]\tПотеря: 183.123764\tТочность: 0.8979\n",
            "Эпоха: 0 [25600/60000 (43%)]\tПотеря: 149.899384\tТочность: 0.9240\n",
            "Эпоха: 0 [38400/60000 (64%)]\tПотеря: 139.823822\tТочность: 0.9348\n",
            "Эпоха: 0 [51200/60000 (85%)]\tПотеря: 135.591248\tТочность: 0.9390\n",
            "====> Эпоха: 0 Средняя потеря: 164.4583\tСредняя точность: 0.9161\n",
            "Эпоха: 1 [0/60000 (0%)]\tПотеря: 128.912720\tТочность: 0.9452\n",
            "Эпоха: 1 [12800/60000 (21%)]\tПотеря: 125.503273\tТочность: 0.9473\n",
            "Эпоха: 1 [25600/60000 (43%)]\tПотеря: 122.871063\tТочность: 0.9494\n",
            "Эпоха: 1 [38400/60000 (64%)]\tПотеря: 116.647202\tТочность: 0.9543\n",
            "Эпоха: 1 [51200/60000 (85%)]\tПотеря: 119.245712\tТочность: 0.9541\n",
            "====> Эпоха: 1 Средняя потеря: 121.1867\tСредняя точность: 0.9507\n",
            "Эпоха: 2 [0/60000 (0%)]\tПотеря: 110.999069\tТочность: 0.9591\n",
            "Эпоха: 2 [12800/60000 (21%)]\tПотеря: 118.930328\tТочность: 0.9536\n",
            "Эпоха: 2 [25600/60000 (43%)]\tПотеря: 114.500954\tТочность: 0.9557\n",
            "Эпоха: 2 [38400/60000 (64%)]\tПотеря: 111.026108\tТочность: 0.9598\n",
            "Эпоха: 2 [51200/60000 (85%)]\tПотеря: 113.356201\tТочность: 0.9570\n",
            "====> Эпоха: 2 Средняя потеря: 114.7226\tСредняя точность: 0.9563\n",
            "Эпоха: 3 [0/60000 (0%)]\tПотеря: 109.676781\tТочность: 0.9593\n",
            "Эпоха: 3 [12800/60000 (21%)]\tПотеря: 107.108681\tТочность: 0.9609\n",
            "Эпоха: 3 [25600/60000 (43%)]\tПотеря: 110.875015\tТочность: 0.9587\n",
            "Эпоха: 3 [38400/60000 (64%)]\tПотеря: 110.649597\tТочность: 0.9598\n",
            "Эпоха: 3 [51200/60000 (85%)]\tПотеря: 109.426437\tТочность: 0.9604\n",
            "====> Эпоха: 3 Средняя потеря: 111.8544\tСредняя точность: 0.9588\n",
            "Эпоха: 4 [0/60000 (0%)]\tПотеря: 106.059273\tТочность: 0.9628\n",
            "Эпоха: 4 [12800/60000 (21%)]\tПотеря: 110.537796\tТочность: 0.9596\n",
            "Эпоха: 4 [25600/60000 (43%)]\tПотеря: 112.536911\tТочность: 0.9592\n",
            "Эпоха: 4 [38400/60000 (64%)]\tПотеря: 115.433296\tТочность: 0.9581\n",
            "Эпоха: 4 [51200/60000 (85%)]\tПотеря: 109.773788\tТочность: 0.9601\n",
            "====> Эпоха: 4 Средняя потеря: 110.0932\tСредняя точность: 0.9602\n",
            "Эпоха: 5 [0/60000 (0%)]\tПотеря: 107.940704\tТочность: 0.9615\n",
            "Эпоха: 5 [12800/60000 (21%)]\tПотеря: 111.318443\tТочность: 0.9607\n",
            "Эпоха: 5 [25600/60000 (43%)]\tПотеря: 107.108261\tТочность: 0.9632\n",
            "Эпоха: 5 [38400/60000 (64%)]\tПотеря: 107.217957\tТочность: 0.9621\n",
            "Эпоха: 5 [51200/60000 (85%)]\tПотеря: 108.043411\tТочность: 0.9615\n",
            "====> Эпоха: 5 Средняя потеря: 108.9178\tСредняя точность: 0.9613\n",
            "Эпоха: 6 [0/60000 (0%)]\tПотеря: 108.726982\tТочность: 0.9627\n",
            "Эпоха: 6 [12800/60000 (21%)]\tПотеря: 106.860550\tТочность: 0.9623\n",
            "Эпоха: 6 [25600/60000 (43%)]\tПотеря: 110.096466\tТочность: 0.9601\n",
            "Эпоха: 6 [38400/60000 (64%)]\tПотеря: 107.669815\tТочность: 0.9609\n",
            "Эпоха: 6 [51200/60000 (85%)]\tПотеря: 111.344673\tТочность: 0.9600\n",
            "====> Эпоха: 6 Средняя потеря: 108.0339\tСредняя точность: 0.9620\n",
            "Эпоха: 7 [0/60000 (0%)]\tПотеря: 109.880592\tТочность: 0.9617\n",
            "Эпоха: 7 [12800/60000 (21%)]\tПотеря: 105.596107\tТочность: 0.9644\n",
            "Эпоха: 7 [25600/60000 (43%)]\tПотеря: 103.644951\tТочность: 0.9637\n",
            "Эпоха: 7 [38400/60000 (64%)]\tПотеря: 106.296898\tТочность: 0.9627\n",
            "Эпоха: 7 [51200/60000 (85%)]\tПотеря: 106.756096\tТочность: 0.9631\n",
            "====> Эпоха: 7 Средняя потеря: 107.3682\tСредняя точность: 0.9625\n",
            "Эпоха: 8 [0/60000 (0%)]\tПотеря: 105.832993\tТочность: 0.9639\n",
            "Эпоха: 8 [12800/60000 (21%)]\tПотеря: 106.446594\tТочность: 0.9640\n",
            "Эпоха: 8 [25600/60000 (43%)]\tПотеря: 109.377716\tТочность: 0.9615\n",
            "Эпоха: 8 [38400/60000 (64%)]\tПотеря: 106.632675\tТочность: 0.9626\n",
            "Эпоха: 8 [51200/60000 (85%)]\tПотеря: 112.285828\tТочность: 0.9610\n",
            "====> Эпоха: 8 Средняя потеря: 106.8590\tСредняя точность: 0.9630\n",
            "Эпоха: 9 [0/60000 (0%)]\tПотеря: 103.467697\tТочность: 0.9651\n",
            "Эпоха: 9 [12800/60000 (21%)]\tПотеря: 105.889313\tТочность: 0.9633\n",
            "Эпоха: 9 [25600/60000 (43%)]\tПотеря: 104.125076\tТочность: 0.9640\n",
            "Эпоха: 9 [38400/60000 (64%)]\tПотеря: 103.715775\tТочность: 0.9653\n",
            "Эпоха: 9 [51200/60000 (85%)]\tПотеря: 105.768814\tТочность: 0.9631\n",
            "====> Эпоха: 9 Средняя потеря: 106.4559\tСредняя точность: 0.9633\n"
          ]
        }
      ]
    },
    {
      "cell_type": "code",
      "source": [
        "# Вывод исходных и восстановленных изображений\n",
        "model.eval()\n",
        "with torch.no_grad():\n",
        "    # Взять 10 случайных изображений из датасета\n",
        "    sample_data, _ = next(iter(dataloader))\n",
        "    sample_data = sample_data[:10]  # взять первые 10 изображений\n",
        "\n",
        "    # Пропустить через модель для кодирования и декодирования\n",
        "    recon_batch, _, _ = model(sample_data)\n",
        "\n",
        "    # Визуализация исходных и восстановленных изображений\n",
        "    plt.figure(figsize=(20, 4))\n",
        "    for i in range(10):\n",
        "        original_image = sample_data[i].view(28, 28).cpu().numpy()\n",
        "        reconstructed_image = recon_batch[i].view(28, 28).cpu().numpy()\n",
        "\n",
        "        # Оригинальные изображения\n",
        "        plt.subplot(2, 10, i + 1)\n",
        "        plt.imshow(original_image, cmap='gray')\n",
        "        plt.title(\"Оригинал\")\n",
        "        plt.axis('off')\n",
        "\n",
        "        # Восстановленные изображения\n",
        "        plt.subplot(2, 10, i + 11)\n",
        "        plt.imshow(reconstructed_image, cmap='gray')\n",
        "        plt.title(\"Восстановлено\")\n",
        "        plt.axis('off')\n",
        "\n",
        "    plt.show()"
      ],
      "metadata": {
        "colab": {
          "base_uri": "https://localhost:8080/",
          "height": 242
        },
        "id": "gKK6CSM7VsPI",
        "outputId": "0b10cb48-3eb6-48a9-ce59-7967a9cb9233"
      },
      "execution_count": 17,
      "outputs": [
        {
          "output_type": "display_data",
          "data": {
            "text/plain": [
              "<Figure size 2000x400 with 20 Axes>"
            ],
            "image/png": "[encoded data removed]"
          },
          "metadata": {}
        }
      ]
    }
  ]
}